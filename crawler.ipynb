{
 "cells": [
  {
   "cell_type": "code",
   "execution_count": 1,
   "metadata": {},
   "outputs": [],
   "source": [
    "import requests\n",
    "import random\n",
    "from bs4 import BeautifulSoup\n",
    "import io\n",
    "import time\n",
    "import pandas as pd"
   ]
  },
  {
   "cell_type": "code",
   "execution_count": 2,
   "metadata": {},
   "outputs": [
    {
     "output_type": "stream",
     "name": "stdout",
     "text": "1293\n1272\n1316\n1263\n1263\n"
    }
   ],
   "source": [
    "tday = 1589846400\n",
    "p5yday = 1431993600\n",
    "per_3m = int((tday-p5yday) / 5 / 4)\n",
    "pr = []\n",
    "for i in range(0,20):\n",
    "    pr.append(tday-per_3m)\n",
    "    tday -= per_3m\n",
    "pr.insert(0,1589846400)\n",
    "pr.reverse()\n",
    "items = ['^GSPC', 'TWD=X', '^DJI', '^IXIC']\n",
    "enc_idx = []\n",
    "for i in range(len(items)):\n",
    "    tables = []\n",
    "    while_loop = pr[:]\n",
    "    while len(while_loop)!=1:\n",
    "        pr_to = while_loop.pop()\n",
    "        pr_from = while_loop[-1]\n",
    "        item = items[i]\n",
    "        url = 'https://hk.finance.yahoo.com/quote/' + item +'/history?period1=' + str(pr_from) + '&period2=' + str(pr_to) + '&interval=1d&filter=history&frequency=1d'\n",
    "        table = pd.read_html(requests.get(url, headers={'User-agent': 'Mozilla/5.0 (Windows NT 6.1; Win64; x64) AppleWebKit/537.36 (KHTML, like Gecko) Chrome/63.0.3239.132 Safari/537.36'}).text)\n",
    "        drop_row = table[0][table[0]['日期'] == '*收市價已按拆股調整。**經調整收市價已按股息和拆股調整。'].index\n",
    "        table[0].drop(drop_row, inplace=True)\n",
    "        drop_row = table[0][table[0]['開市'] == '-'].index\n",
    "        table[0].drop(drop_row, inplace=True)\n",
    "        table[0][items[i]] = table[0]['收市*']\n",
    "        table[0] = table[0][['日期',items[i]]]\n",
    "        table[0]['日期'] = table[0]['日期'].str.replace('年', '/')\n",
    "        table[0]['日期'] = table[0]['日期'].str.replace('月', '/')\n",
    "        table[0]['日期'] = table[0]['日期'].str.replace('日', '')\n",
    "        table[0]['日期'] = pd.to_datetime(table[0]['日期'])\n",
    "        tables.append(table[0])\n",
    "        randaom_time = random.random() * 2\n",
    "        time.sleep(randaom_time)\n",
    "    df_temp = pd.concat(tables, axis=0)\n",
    "    df_temp.index = range(0, len(df_temp))\n",
    "    # drop_row = df_gold[df_gold['日期'] == '*收市價已按拆股調整。**經調整收市價已按股息和拆股調整。'].index\n",
    "    # df_gold.drop(drop_row, inplace=True)\n",
    "    enc_idx.append(df_temp)\n",
    "for i in range(len(enc_idx)):\n",
    "    enc_idx[i].set_index('日期', inplace=True)\n",
    "    print(len(enc_idx[i]))"
   ]
  },
  {
   "cell_type": "code",
   "execution_count": 3,
   "metadata": {},
   "outputs": [],
   "source": [
    "target = pd.read_csv('00677U.csv')\n",
    "target = target[['Date', 'Close']]\n",
    "target['Date'] = pd.to_datetime(target['Date'])\n",
    "target.set_index('Date', inplace=True)\n",
    "target.columns = ['00677']"
   ]
  },
  {
   "cell_type": "code",
   "execution_count": 4,
   "metadata": {},
   "outputs": [
    {
     "output_type": "execute_result",
     "data": {
      "text/plain": "            FB_VIX       黃金     原油       美元        道瓊     那斯達克\n2017-06-30    9.97  1240.70  46.04  30.3530  21349.63  6140.42\n2017-07-03    9.97  1240.70  46.04  30.4170  21479.27  6110.06\n2017-07-04   10.18  1240.70  46.04  30.4170  21479.27  6110.06\n2017-07-05   10.15  1220.40  45.13  30.5110  21478.17  6150.86\n2017-07-06   10.15  1222.20  45.52  30.4850  21320.04  6089.46\n...            ...      ...    ...      ...       ...      ...\n2020-05-13    6.53  1726.70  25.57  29.7880  23247.97  8863.17\n2020-05-14    7.17  1741.90  27.73  29.8920  23625.34  8943.72\n2020-05-15    6.83  1754.10  29.65  29.8760  23685.42  9014.56\n2020-05-18    6.52  1737.10  33.23  29.9540  24597.37  9234.83\n2020-05-19    6.24  1737.10  33.23  29.9520  24597.37  9234.83\n\n[722 rows x 6 columns]",
      "text/html": "<div>\n<style scoped>\n    .dataframe tbody tr th:only-of-type {\n        vertical-align: middle;\n    }\n\n    .dataframe tbody tr th {\n        vertical-align: top;\n    }\n\n    .dataframe thead th {\n        text-align: right;\n    }\n</style>\n<table border=\"1\" class=\"dataframe\">\n  <thead>\n    <tr style=\"text-align: right;\">\n      <th></th>\n      <th>FB_VIX</th>\n      <th>黃金</th>\n      <th>原油</th>\n      <th>美元</th>\n      <th>道瓊</th>\n      <th>那斯達克</th>\n    </tr>\n  </thead>\n  <tbody>\n    <tr>\n      <th>2017-06-30</th>\n      <td>9.97</td>\n      <td>1240.70</td>\n      <td>46.04</td>\n      <td>30.3530</td>\n      <td>21349.63</td>\n      <td>6140.42</td>\n    </tr>\n    <tr>\n      <th>2017-07-03</th>\n      <td>9.97</td>\n      <td>1240.70</td>\n      <td>46.04</td>\n      <td>30.4170</td>\n      <td>21479.27</td>\n      <td>6110.06</td>\n    </tr>\n    <tr>\n      <th>2017-07-04</th>\n      <td>10.18</td>\n      <td>1240.70</td>\n      <td>46.04</td>\n      <td>30.4170</td>\n      <td>21479.27</td>\n      <td>6110.06</td>\n    </tr>\n    <tr>\n      <th>2017-07-05</th>\n      <td>10.15</td>\n      <td>1220.40</td>\n      <td>45.13</td>\n      <td>30.5110</td>\n      <td>21478.17</td>\n      <td>6150.86</td>\n    </tr>\n    <tr>\n      <th>2017-07-06</th>\n      <td>10.15</td>\n      <td>1222.20</td>\n      <td>45.52</td>\n      <td>30.4850</td>\n      <td>21320.04</td>\n      <td>6089.46</td>\n    </tr>\n    <tr>\n      <th>...</th>\n      <td>...</td>\n      <td>...</td>\n      <td>...</td>\n      <td>...</td>\n      <td>...</td>\n      <td>...</td>\n    </tr>\n    <tr>\n      <th>2020-05-13</th>\n      <td>6.53</td>\n      <td>1726.70</td>\n      <td>25.57</td>\n      <td>29.7880</td>\n      <td>23247.97</td>\n      <td>8863.17</td>\n    </tr>\n    <tr>\n      <th>2020-05-14</th>\n      <td>7.17</td>\n      <td>1741.90</td>\n      <td>27.73</td>\n      <td>29.8920</td>\n      <td>23625.34</td>\n      <td>8943.72</td>\n    </tr>\n    <tr>\n      <th>2020-05-15</th>\n      <td>6.83</td>\n      <td>1754.10</td>\n      <td>29.65</td>\n      <td>29.8760</td>\n      <td>23685.42</td>\n      <td>9014.56</td>\n    </tr>\n    <tr>\n      <th>2020-05-18</th>\n      <td>6.52</td>\n      <td>1737.10</td>\n      <td>33.23</td>\n      <td>29.9540</td>\n      <td>24597.37</td>\n      <td>9234.83</td>\n    </tr>\n    <tr>\n      <th>2020-05-19</th>\n      <td>6.24</td>\n      <td>1737.10</td>\n      <td>33.23</td>\n      <td>29.9520</td>\n      <td>24597.37</td>\n      <td>9234.83</td>\n    </tr>\n  </tbody>\n</table>\n<p>722 rows × 6 columns</p>\n</div>"
     },
     "metadata": {},
     "execution_count": 4
    }
   ],
   "source": [
    "df = target.join(enc_idx)\n",
    "df.fillna(method='pad', inplace=True)\n",
    "col_map = ['FB_VIX','S&P 500','美元','道瓊','那斯達克']\n",
    "df.columns = col_map\n",
    "df = df[155:]\n",
    "df.to_csv('df.csv')\n",
    "df"
   ]
  },
  {
   "cell_type": "code",
   "execution_count": null,
   "metadata": {},
   "outputs": [],
   "source": []
  }
 ],
 "metadata": {
  "language_info": {
   "codemirror_mode": {
    "name": "ipython",
    "version": 3
   },
   "file_extension": ".py",
   "mimetype": "text/x-python",
   "name": "python",
   "nbconvert_exporter": "python",
   "pygments_lexer": "ipython3",
   "version": "3.8.2-final"
  },
  "orig_nbformat": 2,
  "kernelspec": {
   "name": "python38232bite6fe2ffb28234a2b842b70bcda8bfdec",
   "display_name": "Python 3.8.2 32-bit"
  }
 },
 "nbformat": 4,
 "nbformat_minor": 2
}